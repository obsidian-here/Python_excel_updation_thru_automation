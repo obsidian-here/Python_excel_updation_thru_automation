{
 "cells": [
  {
   "cell_type": "code",
   "execution_count": 19,
   "metadata": {},
   "outputs": [],
   "source": [
    "import openpyxl as xl #using openpyxl for all the xl transformations4\n",
    "from openpyxl.chart import BarChart, Reference #this is for all the charting\n",
    "\n",
    "\n",
    "def process_workbook(filename):\n",
    "    wb=xl.load_workbook(filename)\n",
    "\n",
    "    # here we are accessing a sheet in the xl file \n",
    "    sheet=wb['Sheet1']\n",
    "\n",
    "    # these are two methods to access a cell in that sheet\n",
    "    # cell=sheet['a1']\n",
    "    cell=sheet.cell(1,1) #(row, column)\n",
    "    print(cell.value)\n",
    "\n",
    "\n",
    "    print(sheet.max_row)\n",
    "    # this shows us the maximum no of rows the sheet has    \n",
    "\n",
    "\n",
    "    for row in range(2,sheet.max_row+1):\n",
    "        # we start frm 2 as the first row is the title itself \n",
    "        # print(row)\n",
    "        cell=sheet.cell(row,3)\n",
    "        # the third column is the price that we want to multiply by 0.9 and add in a new col \n",
    "        print(cell.value)\n",
    "        # cell.value*0.9 would be the corrected price \n",
    "        corrected_price=cell.value*0.9\n",
    "        corrected_price_cell=sheet.cell(row,4)\n",
    "        corrected_price_cell.value=corrected_price\n",
    "    sheet.cell(1,4).value='corrected_price'\n",
    "    # this is the heading of that column \n",
    "\n",
    "\n",
    "    # now we'll plot a chart for the 4th column values using this \n",
    "    values = Reference(sheet, min_row=2, max_row=sheet.max_row, min_col=4, max_col=4)\n",
    "\n",
    "    chart=BarChart()\n",
    "    chart.add_data(values)\n",
    "    sheet.add_chart(chart, 'e2')\n",
    "    # e2 decides where in the xl the chart's top left corner would be \n",
    "\n",
    "\n",
    "    # now we're saving all this in a separate file to avoid confusion \n",
    "    name_parts=filename.split('.')\n",
    "    new_name=name_parts[0]+'2'+'.'+name_parts[1]\n",
    "    wb.save(new_name)\n",
    "        "
   ]
  },
  {
   "cell_type": "code",
   "execution_count": 20,
   "metadata": {},
   "outputs": [
    {
     "name": "stdout",
     "output_type": "stream",
     "text": [
      "transaction_id\n",
      "4\n",
      "5.95\n",
      "6.95\n",
      "7.95\n"
     ]
    }
   ],
   "source": [
    "process_workbook('transactions.xlsx')"
   ]
  },
  {
   "cell_type": "code",
   "execution_count": 21,
   "metadata": {},
   "outputs": [
    {
     "name": "stdout",
     "output_type": "stream",
     "text": [
      "transactions2.xlsx\n"
     ]
    }
   ],
   "source": [
    "filename='transactions.xlsx'\n",
    "name_parts=filename.split('.')\n",
    "new_name=name_parts[0]+'2'+'.'+name_parts[1]\n",
    "print(new_name)"
   ]
  }
 ],
 "metadata": {
  "kernelspec": {
   "display_name": "Python 3",
   "language": "python",
   "name": "python3"
  },
  "language_info": {
   "codemirror_mode": {
    "name": "ipython",
    "version": 3
   },
   "file_extension": ".py",
   "mimetype": "text/x-python",
   "name": "python",
   "nbconvert_exporter": "python",
   "pygments_lexer": "ipython3",
   "version": "3.11.1"
  },
  "orig_nbformat": 4,
  "vscode": {
   "interpreter": {
    "hash": "ded4f5e514888f9d4519fef4f651063a4c3e49c64bce80a6bd309a54275a8912"
   }
  }
 },
 "nbformat": 4,
 "nbformat_minor": 2
}
